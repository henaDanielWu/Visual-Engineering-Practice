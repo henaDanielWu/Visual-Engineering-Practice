{
 "cells": [
  {
   "cell_type": "code",
   "execution_count": 1,
   "metadata": {},
   "outputs": [],
   "source": [
    "import cv2\n",
    "import numpy as np"
   ]
  },
  {
   "cell_type": "code",
   "execution_count": 2,
   "metadata": {},
   "outputs": [],
   "source": [
    "def image_stitching(images):\n",
    "    # 初始化SIFT检测器\n",
    "    sift = cv2.xfeatures2d.SIFT_create()\n",
    "\n",
    "    # 在图像序列中检测关键点和计算特征描述子\n",
    "    keypoints = []\n",
    "    descriptors = []\n",
    "    for image in images:\n",
    "        gray = cv2.cvtColor(image, cv2.COLOR_BGR2GRAY)\n",
    "        kp, des = sift.detectAndCompute(gray, None)\n",
    "        keypoints.append(kp)\n",
    "        descriptors.append(des)\n",
    "\n",
    "    # 特征匹配\n",
    "    matcher = cv2.BFMatcher()\n",
    "    matches = []\n",
    "    for i in range(len(descriptors)-1):\n",
    "        matches.append(matcher.knnMatch(descriptors[i], descriptors[i+1], k=2))\n",
    "\n",
    "    # 应用比例测试，筛选匹配点对\n",
    "    good_matches = []\n",
    "    for match1, match2 in matches:\n",
    "        if match1.distance < 0.75 * match2.distance:\n",
    "            good_matches.append(match1)\n",
    "\n",
    "    # 获取匹配点对的关键点坐标\n",
    "    src_pts = np.float32([keypoints[i][m.queryIdx].pt for i, m in enumerate(good_matches)]).reshape(-1, 1, 2)\n",
    "    dst_pts = np.float32([keypoints[i+1][m.trainIdx].pt for i, m in enumerate(good_matches)]).reshape(-1, 1, 2)\n",
    "\n",
    "    # 计算图像变换矩阵\n",
    "    M, mask = cv2.findHomography(src_pts, dst_pts, cv2.RANSAC, 5.0)\n",
    "\n",
    "    # 对第一幅图像进行透视变换\n",
    "    rows1, cols1 = images[0].shape[:2]\n",
    "    corners1 = np.float32([[0, 0], [0, rows1], [cols1, rows1], [cols1, 0]]).reshape(-1, 1, 2)\n",
    "    corners2 = cv2.perspectiveTransform(corners1, M)\n",
    "    corners = np.concatenate((corners1, corners2), axis=0)\n",
    "    [xmin, ymin] = np.int32(corners.min(axis=0).ravel() - 0.5)\n",
    "    [xmax, ymax] = np.int32(corners.max(axis=0).ravel() + 0.5)\n",
    "    t = [-xmin, -ymin]\n",
    "\n",
    "    # 对所有图像进行平移变换\n",
    "    transformed_images = []\n",
    "    for image in images:\n",
    "        transformed_image = cv2.warpPerspective(image, M, (xmax - xmin, ymax - ymin))\n",
    "        transformed_images.append(transformed_image)\n",
    "\n",
    "    # 图像融合\n",
    "    result_image = np.zeros((ymax-ymin, xmax-xmin, 3), dtype=np.uint8)\n",
    "    for image in transformed_images:\n",
    "        result_image[t[1]:t[1]+image.shape[0], t[0]:t[0]+image.shape[1]] = image\n",
    "\n",
    "    return result_image"
   ]
  },
  {
   "cell_type": "code",
   "execution_count": null,
   "metadata": {},
   "outputs": [],
   "source": [
    "# 读取图像序列\n",
    "image1 = cv2.imread('image1.jpg')\n",
    "image2 = cv2.imread('image2.jpg')\n",
    "image3 = cv2.imread('image3.jpg')"
   ]
  },
  {
   "cell_type": "code",
   "execution_count": null,
   "metadata": {},
   "outputs": [],
   "source": [
    "# 图像拼接\n",
    "result = image_stitching([image1, image2, image3])\n"
   ]
  },
  {
   "cell_type": "code",
   "execution_count": null,
   "metadata": {},
   "outputs": [],
   "source": [
    "# 显示结果图像\n",
    "cv2.imshow('Result', result)\n",
    "cv2.waitKey(0)\n",
    "cv2.destroyAllWindows()"
   ]
  }
 ],
 "metadata": {
  "kernelspec": {
   "display_name": "Python 3",
   "language": "python",
   "name": "python3"
  },
  "language_info": {
   "codemirror_mode": {
    "name": "ipython",
    "version": 3
   },
   "file_extension": ".py",
   "mimetype": "text/x-python",
   "name": "python",
   "nbconvert_exporter": "python",
   "pygments_lexer": "ipython3",
   "version": "3.7.6"
  }
 },
 "nbformat": 4,
 "nbformat_minor": 4
}
